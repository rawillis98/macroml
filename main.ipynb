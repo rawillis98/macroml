{
 "cells": [
  {
   "cell_type": "markdown",
   "metadata": {},
   "source": [
    "# Genetic Algorithms and Finance\n",
    "Attempted implementation of https://drive.google.com/file/d/0B9-kA56h5JCMMW4tU25HRExWb1U/view?usp=sharing"
   ]
  },
  {
   "cell_type": "markdown",
   "metadata": {},
   "source": [
    "## Data Gathering"
   ]
  },
  {
   "cell_type": "code",
   "execution_count": 45,
   "metadata": {},
   "outputs": [
    {
     "name": "stdout",
     "output_type": "stream",
     "text": [
      "            Value   Returns\n",
      "Date                       \n",
      "1871-02-01   4.50  0.013514\n",
      "1871-03-01   4.61  0.024444\n",
      "1871-04-01   4.74  0.028200\n",
      "1871-05-01   4.86  0.025316\n",
      "1871-06-01   4.82 -0.008230\n"
     ]
    }
   ],
   "source": [
    "from getKey import *\n",
    "import quandl\n",
    "quandl.ApiConfig.api_key = getKey('quandl.key')\n",
    "\n",
    "#S&P 500 returns\n",
    "SPY = quandl.get(\"MULTPL/SP500_REAL_PRICE_MONTH\")\n",
    "SPY[\"shifted\"] = SPY.shift(periods=1)\n",
    "SPY[\"Returns\"] = (SPY[\"Value\"] - SPY['shifted'])/SPY['shifted']\n",
    "data = SPY[[\"Value\", \"Returns\"]]\n",
    "data = data.dropna()\n",
    "print(data.head())"
   ]
  },
  {
   "cell_type": "code",
   "execution_count": 18,
   "metadata": {},
   "outputs": [],
   "source": [
    "class GeneticAlgorithm:\n",
    "    def __init__(self):\n",
    "        return\n",
    "\n",
    "    def generateInitialPopulation(self):\n",
    "        return"
   ]
  },
  {
   "cell_type": "markdown",
   "metadata": {},
   "source": [
    "Indicators: SMA, MACD, Slow Stochastic, RSI, CCI, Momentum Oscillator, Price Oscillator, Larry Williams, Bollinger Bands, and OBV"
   ]
  },
  {
   "cell_type": "code",
   "execution_count": 140,
   "metadata": {},
   "outputs": [],
   "source": [
    "#True on the index that a crosses over b\n",
    "def crossover(a, b):\n",
    "    a.dropna(inplace = True)\n",
    "    b.dropna(inplace = True)\n",
    "    if not isinstance(b, pd.Series):\n",
    "        b = pd.Series(b, index = a.index)\n",
    "    minDate = max(a.index[0], b.index[0])\n",
    "    maxDate = min(a.index[-1], b.index[-1])\n",
    "    a = a[minDate:maxDate]\n",
    "    b = b[minDate:maxDate]\n",
    "    previousPeriodLessThan = a.shift(1) < b.shift(1) #check if in the previous day, a was less than b\n",
    "    nextPeriodGreaterThan = a > b #in the day after the previous day (\"today\") a is greater than b\n",
    "    out = previousPeriodLessThan & nextPeriodGreaterThan\n",
    "    return out\n",
    "\n",
    "#True on the index that a crosses under b\n",
    "def crossunder(a, b):\n",
    "    a.dropna(inplace = True)\n",
    "    b.dropna(inplace = True)\n",
    "    if not isinstance(b, pd.Series):\n",
    "        b = pd.Series(b, index = a.index)\n",
    "    minDate = max(a.index[0], b.index[0])\n",
    "    maxDate = min(a.index[-1], b.index[-1])\n",
    "    a = a[minDate:maxDate]\n",
    "    b = b[minDate:maxDate]\n",
    "    #note: names not changed, copied from crossover, but still works\n",
    "    previousPeriodLessThan = a.shift(1) > b.shift(1) #check if in the previous day, a was greater than b\n",
    "    nextPeriodGreaterThan = a < b #in the day after the previous day (\"today\") a is less than b\n",
    "    out = previousPeriodLessThan & nextPeriodGreaterThan\n",
    "    return out"
   ]
  },
  {
   "cell_type": "code",
   "execution_count": 147,
   "metadata": {},
   "outputs": [],
   "source": [
    "import talib\n",
    "import pandas as pd\n",
    "close = data.Value\n",
    "indicators = []\n",
    "\n",
    "class Indicator:\n",
    "    def __init__(self, name, buy, sell):\n",
    "        self.name = name\n",
    "        self.buy = buy.dropna()\n",
    "        self.sell = sell.dropna()\n",
    "        self.minDate"
   ]
  },
  {
   "cell_type": "code",
   "execution_count": 150,
   "metadata": {},
   "outputs": [
    {
     "data": {
      "text/plain": [
       "Date\n",
       "1887-09-01    False\n",
       "1887-10-01    False\n",
       "1887-11-01    False\n",
       "1887-12-01    False\n",
       "1888-01-01    False\n",
       "dtype: bool"
      ]
     },
     "execution_count": 150,
     "metadata": {},
     "output_type": "execute_result"
    }
   ],
   "source": [
    "#SMA\n",
    "SMA50 = talib.SMA(close, 50)\n",
    "SMA200 = talib.SMA(close, 200)\n",
    "buy = crossover(SMA50, SMA200)\n",
    "sell = crossunder(SMA50, SMA200)\n",
    "SMA = Indicator(\"SMA\", buy, sell)"
   ]
  },
  {
   "cell_type": "code",
   "execution_count": null,
   "metadata": {},
   "outputs": [],
   "source": [
    "#MACD"
   ]
  }
 ],
 "metadata": {
  "kernelspec": {
   "display_name": "Python 3",
   "language": "python",
   "name": "python3"
  },
  "language_info": {
   "codemirror_mode": {
    "name": "ipython",
    "version": 3
   },
   "file_extension": ".py",
   "mimetype": "text/x-python",
   "name": "python",
   "nbconvert_exporter": "python",
   "pygments_lexer": "ipython3",
   "version": "3.6.5"
  }
 },
 "nbformat": 4,
 "nbformat_minor": 2
}
