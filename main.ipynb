{
 "cells": [
  {
   "cell_type": "markdown",
   "metadata": {},
   "source": [
    "# Genetic Algorithms and Finance\n",
    "Attempted implementation of https://drive.google.com/file/d/0B9-kA56h5JCMMW4tU25HRExWb1U/view?usp=sharing"
   ]
  },
  {
   "cell_type": "markdown",
   "metadata": {},
   "source": [
    "## Data Gathering"
   ]
  },
  {
   "cell_type": "code",
   "execution_count": 193,
   "metadata": {},
   "outputs": [
    {
     "name": "stdout",
     "output_type": "stream",
     "text": [
      "                 Open       High        Low      Close  Adj Close   Volume  \\\n",
      "Date                                                                         \n",
      "1950-01-04  16.850000  16.850000  16.850000  16.850000  16.850000  1890000   \n",
      "1950-01-05  16.930000  16.930000  16.930000  16.930000  16.930000  2550000   \n",
      "1950-01-06  16.980000  16.980000  16.980000  16.980000  16.980000  2010000   \n",
      "1950-01-09  17.080000  17.080000  17.080000  17.080000  17.080000  2520000   \n",
      "1950-01-10  17.030001  17.030001  17.030001  17.030001  17.030001  2160000   \n",
      "\n",
      "             Returns  \n",
      "Date                  \n",
      "1950-01-04  0.011405  \n",
      "1950-01-05  0.004748  \n",
      "1950-01-06  0.002953  \n",
      "1950-01-09  0.005889  \n",
      "1950-01-10 -0.002927  \n"
     ]
    }
   ],
   "source": [
    "from getKey import *\n",
    "import quandl\n",
    "quandl.ApiConfig.api_key = getKey('quandl.key')\n",
    "\n",
    "#S&P 500 returns\n",
    "#SPY data from yahoo finance https://finance.yahoo.com/quote/%5EGSPC/history?period1=-631130400&period2=1544248800&interval=1d&filter=history&frequency=1d\n",
    "SPY = pd.read_csv('SPY.csv', parse_dates = True, index_col = 0)\n",
    "SPY[\"Returns\"] = (SPY[\"Close\"] - SPY[\"Close\"].shift(1))/SPY[\"Close\"].shift(1)\n",
    "data = SPY\n",
    "data = data.dropna()\n",
    "print(data.head())"
   ]
  },
  {
   "cell_type": "code",
   "execution_count": 159,
   "metadata": {},
   "outputs": [],
   "source": [
    "#True on the index that a crosses over b\n",
    "def crossover(a, b):\n",
    "    a.dropna(inplace = True)\n",
    "    if not isinstance(b, pd.Series):\n",
    "        b = pd.Series(b, index = a.index)\n",
    "    else:\n",
    "        b.dropna(inplace = True)\n",
    "    minDate = max(a.index[0], b.index[0])\n",
    "    maxDate = min(a.index[-1], b.index[-1])\n",
    "    a = a[minDate:maxDate]\n",
    "    b = b[minDate:maxDate]\n",
    "    previousPeriodLessThan = a.shift(1) < b.shift(1) #check if in the previous day, a was less than b\n",
    "    nextPeriodGreaterThan = a > b #in the day after the previous day (\"today\") a is greater than b\n",
    "    out = previousPeriodLessThan & nextPeriodGreaterThan\n",
    "    return out\n",
    "\n",
    "#True on the index that a crosses under b\n",
    "def crossunder(a, b):\n",
    "    a.dropna(inplace = True)\n",
    "    if not isinstance(b, pd.Series):\n",
    "        b = pd.Series(b, index = a.index)\n",
    "    else:\n",
    "        b.dropna(inplace = True)\n",
    "    minDate = max(a.index[0], b.index[0])\n",
    "    maxDate = min(a.index[-1], b.index[-1])\n",
    "    a = a[minDate:maxDate]\n",
    "    b = b[minDate:maxDate]\n",
    "    #note: names not changed, copied from crossover, but still works\n",
    "    previousPeriodLessThan = a.shift(1) > b.shift(1) #check if in the previous day, a was greater than b\n",
    "    nextPeriodGreaterThan = a < b #in the day after the previous day (\"today\") a is less than b\n",
    "    out = previousPeriodLessThan & nextPeriodGreaterThan\n",
    "    return out"
   ]
  },
  {
   "cell_type": "markdown",
   "metadata": {},
   "source": [
    "Indicators: SMA, MACD, Slow Stochastic, RSI, CCI,\n",
    "Momentum Oscillator, Price Oscillator, Larry Williams, Bollinger Bands and OBV."
   ]
  },
  {
   "cell_type": "code",
   "execution_count": 217,
   "metadata": {},
   "outputs": [],
   "source": [
    "import talib\n",
    "import pandas as pd\n",
    "close = data.Close\n",
    "high = data.High\n",
    "low = data.Low\n",
    "volume = data.Volume\n",
    "\n",
    "indicators = []\n",
    "\n",
    "class Indicator:\n",
    "    def __init__(self, name, buy, sell):\n",
    "        self.name = name\n",
    "        self.buy = buy.dropna()\n",
    "        self.sell = sell.dropna()\n",
    "        self.minDate = buy.index[0]\n",
    "        self.maxDate = buy.index[-1]"
   ]
  },
  {
   "cell_type": "code",
   "execution_count": 218,
   "metadata": {},
   "outputs": [],
   "source": [
    "#SMA\n",
    "SMA50 = talib.SMA(close, 50)\n",
    "SMA200 = talib.SMA(close, 200)\n",
    "buy = crossover(SMA50, SMA200)\n",
    "sell = crossunder(SMA50, SMA200)\n",
    "SMA = Indicator(\"SMA\", buy, sell)\n",
    "indicators.append(SMA)"
   ]
  },
  {
   "cell_type": "code",
   "execution_count": 219,
   "metadata": {},
   "outputs": [],
   "source": [
    "#MACD\n",
    "macd, macdsignal, macdhist = talib.MACD(close, fastperiod=12, slowperiod=26, signalperiod=9)\n",
    "buy = crossover(macd, macdsignal)\n",
    "sell = crossunder(macd, macdsignal)\n",
    "MACD = Indicator(\"MACD\", buy, sell)\n",
    "indicators.append(MACD)"
   ]
  },
  {
   "cell_type": "code",
   "execution_count": 220,
   "metadata": {},
   "outputs": [],
   "source": [
    "#RSI\n",
    "rsi = talib.RSI(close, 14)\n",
    "buy = crossover(rsi, 30)\n",
    "sell = crossunder(rsi, 70)\n",
    "RSI = Indicator(\"RSI\", buy, sell)\n",
    "indicators.append(RSI)"
   ]
  },
  {
   "cell_type": "code",
   "execution_count": 221,
   "metadata": {},
   "outputs": [],
   "source": [
    "#CCI\n",
    "CCI = talib.CCI(high, low, close, timeperiod=14)\n",
    "buy = crossover(CCI, 100)\n",
    "sell = crossunder(CCI, -100)\n",
    "CCI = Indicator(\"CCI\", buy, sell)\n",
    "indicators.append(CCI)"
   ]
  },
  {
   "cell_type": "code",
   "execution_count": 222,
   "metadata": {},
   "outputs": [],
   "source": [
    "#Momentum Oscillator\n",
    "MOM = talib.MOM(close, 9)\n",
    "buy = crossover(MOM, 100)\n",
    "sell = crossunder(MOM, 100)\n",
    "MOM = Indicator(\"MOM\", buy, sell)\n",
    "indicators.append(MOM)"
   ]
  },
  {
   "cell_type": "code",
   "execution_count": 223,
   "metadata": {},
   "outputs": [],
   "source": [
    "#Price Oscillator\n",
    "#Couldn't find"
   ]
  },
  {
   "cell_type": "code",
   "execution_count": 224,
   "metadata": {},
   "outputs": [],
   "source": [
    "#Williams %R\n",
    "Williams = talib.WILLR(high, low, close, timeperiod=14)\n",
    "sell = crossover(Williams, -20)\n",
    "buy = crossunder(Williams, -80)\n",
    "Williams = Indicator(\"Williams %R\", buy, sell)\n",
    "indicators.append(Williams)"
   ]
  },
  {
   "cell_type": "code",
   "execution_count": 225,
   "metadata": {},
   "outputs": [],
   "source": [
    "#Bollinger Bands\n",
    "upperband, middleband, lowerband = talib.BBANDS(close, timeperiod=5, nbdevup=2, nbdevdn=2, matype=0)\n",
    "buy = crossover(middleband, lowerband)\n",
    "sell = crossunder(middleband, upperband)\n",
    "bollinger = Indicator(\"Bollinger Bands\", buy, sell)\n",
    "indicators.append(bollinger)"
   ]
  },
  {
   "cell_type": "code",
   "execution_count": 226,
   "metadata": {},
   "outputs": [],
   "source": [
    "#OBV\n",
    "OBV = talib.OBV(close, volume)\n",
    "OBV_Signal = talib.SMA(OBV, 20)\n",
    "buy = crossunder(OBV, OBV_signal)\n",
    "sell = crossover(OB)"
   ]
  },
  {
   "cell_type": "code",
   "execution_count": 227,
   "metadata": {},
   "outputs": [
    {
     "name": "stdout",
     "output_type": "stream",
     "text": [
      "SMA\n",
      "MACD\n",
      "RSI\n",
      "CCI\n",
      "MOM\n",
      "Williams %R\n",
      "Bollinger Bands\n"
     ]
    }
   ],
   "source": [
    "for x in indicators:\n",
    "    print(x.name)"
   ]
  }
 ],
 "metadata": {
  "kernelspec": {
   "display_name": "Python 3",
   "language": "python",
   "name": "python3"
  },
  "language_info": {
   "codemirror_mode": {
    "name": "ipython",
    "version": 3
   },
   "file_extension": ".py",
   "mimetype": "text/x-python",
   "name": "python",
   "nbconvert_exporter": "python",
   "pygments_lexer": "ipython3",
   "version": "3.6.5"
  }
 },
 "nbformat": 4,
 "nbformat_minor": 2
}
